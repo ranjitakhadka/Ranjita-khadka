{
 "cells": [
  {
   "cell_type": "code",
   "execution_count": null,
   "id": "31f51e26-cdb3-4ce5-b3cd-ab26bdb3640a",
   "metadata": {},
   "outputs": [],
   "source": [
    "                                   SET A\n",
    "1. Basic calculator\n",
    "\n",
    "def calculator():\n",
    "    a = float(input(\"Enter first number: \"))\n",
    "    op = input(\"Enter operator (+, -, *, /): \")\n",
    "    b = float(input(\"Enter second number: \"))\n",
    "    \n",
    "    if op == '+':\n",
    "        print(\"Result:\", a + b)\n",
    "    elif op == '-':\n",
    "        print(\"Result:\", a - b)\n",
    "    elif op == '*':\n",
    "        print(\"Result:\", a * b)\n",
    "    elif op == '/':\n",
    "        if b != 0:\n",
    "            print(\"Result:\", a / b)\n",
    "        else:\n",
    "            print(\"Cannot divide by zero.\")\n",
    "    else:\n",
    "        print(\"Invalid operator.\")\n",
    "\n",
    "calculator()\n",
    "\n",
    "           \n"
   ]
  },
  {
   "cell_type": "code",
   "execution_count": null,
   "id": "3493c65c-e01a-4f86-9605-421303e8e616",
   "metadata": {},
   "outputs": [],
   "source": [
    "2.Decimal to binary conversion\n",
    "\n",
    "def decimal_to_binary():\n",
    "    number = int(input(\"Enter a decimal number: \"))\n",
    "    print(\"Binary equivalent:\", bin(number)[2:])\n",
    "\n",
    "decimal_to_binary()\n"
   ]
  },
  {
   "cell_type": "code",
   "execution_count": null,
   "id": "29912989-8e1a-4cdd-a3d6-f44a73381d57",
   "metadata": {},
   "outputs": [],
   "source": [
    "3.Age check (minor,adult,senior)\n",
    "\n",
    "age = int(input(\"Enter your age: \"))\n",
    "if age < 18:\n",
    "    print(\"You are a minor.\")\n",
    "elif age < 65:\n",
    "    print(\"You are an adult.\")\n",
    "else:\n",
    "    print(\"You are a senior.\")\n",
    "           \n"
   ]
  },
  {
   "cell_type": "code",
   "execution_count": null,
   "id": "fbe6c43e-8392-4b63-90d6-0b03a0270ad2",
   "metadata": {},
   "outputs": [],
   "source": [
    "4.Swap two variables\n",
    "\n",
    "a = 5\n",
    "b = 10\n",
    "a, b = b, a\n",
    "print(f\"a = {a}, b = {b}\")\n"
   ]
  },
  {
   "cell_type": "code",
   "execution_count": null,
   "id": "3d03d672-e21c-4325-bb2a-55a26ac3661a",
   "metadata": {},
   "outputs": [],
   "source": [
    "5.First 10 fibonacci numbers\n",
    "def fibonacci_series():\n",
    "a, b = 0, 1\n",
    "for _ in range(10):\n",
    "    print(a, end=' ')\n",
    "    a, b = b, a + b\n",
    "fibonacci_series()"
   ]
  },
  {
   "cell_type": "code",
   "execution_count": null,
   "id": "0ab310d7-8799-4302-88d2-cf1d1c6bfb55",
   "metadata": {},
   "outputs": [],
   "source": [
    "6.Check prime number\n",
    "\n",
    "def is_prime(n):\n",
    "    if n <= 1:\n",
    "        return False\n",
    "    for i in range(2, int(n**0.5)+1):\n",
    "        if n % i == 0:\n",
    "            return False\n",
    "    return True\n",
    "\n",
    "print(is_prime(29))  \n"
   ]
  },
  {
   "cell_type": "code",
   "execution_count": null,
   "id": "56fd4a7a-91a1-4bfb-8fd1-cdfba6090b5d",
   "metadata": {},
   "outputs": [],
   "source": [
    "7.Check if third number is sum of first two\n",
    "\n",
    "a = int(input(\"Enter first number: \"))\n",
    "b = int(input(\"Enter second number: \"))\n",
    "c = int(input(\"Enter third number: \"))\n",
    "\n",
    "if c == a + b:\n",
    "    print(\"The third number is the sum of the first two.\")\n",
    "else:\n",
    "    print(\"The third number is not the sum of the first two.\")\n"
   ]
  },
  {
   "cell_type": "code",
   "execution_count": null,
   "id": "943d2440-7b7c-4ba4-8852-9240554136e1",
   "metadata": {},
   "outputs": [],
   "source": [
    "8.import custom module for factorial\n",
    "\n",
    "def factorial(n):\n",
    "    if n == 0 or n == 1:\n",
    "        return 1\n",
    "    return n * factorial(n - 1)\n"
   ]
  },
  {
   "cell_type": "code",
   "execution_count": null,
   "id": "3ca1a1a1-39ae-4d75-8689-498fa3194c34",
   "metadata": {},
   "outputs": [],
   "source": [
    "9.division with zero handling\n",
    "\n",
    "a = int(input(\"Enter numerator: \"))\n",
    "b = int(input(\"Enter denominator: \"))\n",
    "try:\n",
    "    result = a / b\n",
    "    print(f\"Result: {result}\")\n",
    "except Zero Division Error:\n",
    "    print(\"Cannot divide by zero.\")\n"
   ]
  },
  {
   "cell_type": "code",
   "execution_count": null,
   "id": "c89f5de5-2373-4750-8e6f-4eb36cf69023",
   "metadata": {},
   "outputs": [],
   "source": [
    "10.max value in list\n",
    "\n",
    "def find_max(numbers):\n",
    "    return max(numbers)\n",
    "\n",
    "print(find_max([4, 9, 1, 6, 7]))\n"
   ]
  },
  {
   "cell_type": "code",
   "execution_count": null,
   "id": "57d87ea5-8a8a-438f-a73b-e3ac08a1b891",
   "metadata": {},
   "outputs": [],
   "source": [
    "11.greeting with optional age\n",
    "\n",
    "def greet(name, age=25):\n",
    "    print(f\"Hello {name}, you are {age} years old.\")\n",
    "\n",
    "greet(\"Alice\")\n",
    "greet(\"Bob\", 30)\n"
   ]
  },
  {
   "cell_type": "code",
   "execution_count": null,
   "id": "a5b49156-92a2-4bf4-882b-2e1871302372",
   "metadata": {},
   "outputs": [],
   "source": [
    "12.count vowels in string\n",
    "\n",
    "def count_vowels(s):\n",
    "    return sum(1 for char in s.lower() if char in 'aeiou')\n",
    "\n",
    "print(count_vowels(\"Hello World\"))\n"
   ]
  },
  {
   "cell_type": "code",
   "execution_count": null,
   "id": "6abfa3c7-425e-41b0-b964-f1bd0bb8f0c5",
   "metadata": {},
   "outputs": [],
   "source": [
    "13.multiplication table\n",
    "\n",
    "n = int(input(\"Enter a number: \"))\n",
    "for i in range(1, 11):\n",
    "    print(f\"{n} x {i} = {n * i}\")\n"
   ]
  },
  {
   "cell_type": "code",
   "execution_count": null,
   "id": "c8a8d096-666f-4c9c-a927-76dc5e27d708",
   "metadata": {},
   "outputs": [],
   "source": [
    "14.right angled triangles of stars\n",
    "\n",
    "rows = int(input(\"Enter number of rows: \"))\n",
    "for i in range(1, rows + 1):\n",
    "    print('*' * i)\n"
   ]
  },
  {
   "cell_type": "code",
   "execution_count": null,
   "id": "c97f7754-50d4-461b-a958-24e28c551a75",
   "metadata": {},
   "outputs": [],
   "source": [
    "15.pyramid of stars\n",
    "\n",
    "rows = int(input(\"Enter the number of rows: \"))\n",
    "for i in range(1, rows + 1):\n",
    "    spaces = ' ' * (rows - i)\n",
    "    stars = '*' * (2 * i - 1)\n",
    "    print(spaces + stars)\n"
   ]
  },
  {
   "cell_type": "code",
   "execution_count": null,
   "id": "b3fa9c45-2620-4f79-83bd-118037348dd2",
   "metadata": {},
   "outputs": [],
   "source": [
    "                              SET B\n",
    "1.palindrome number\n",
    "\n",
    "def is_palindrome(x):\n",
    "    x_string = string(x)\n",
    "    reversed_string = x_string[::-1]\n",
    "    \n",
    "    if x_string == reversed_string:\n",
    "        return True\n",
    "    else:\n",
    "        return False\n",
    "\n",
    "# Example usage\n",
    "print(is_palindrome(121))   # True\n",
    "print(is_palindrome(-121))  # False\n"
   ]
  },
  {
   "cell_type": "code",
   "execution_count": null,
   "id": "dc0d7bbb-af2d-466f-998e-bc2437a7796f",
   "metadata": {},
   "outputs": [],
   "source": [
    "2.single number\n",
    "\n",
    "def single_number(numbers):\n",
    "    for number in numbers:\n",
    "        count = numbers.count(number)\n",
    "        if count == 1:\n",
    "            return number\n",
    "        else:\n",
    "            continue\n",
    "\n",
    "# Example usage\n",
    "print(single_number([4, 1, 2, 1, 2]))  # Output: 4\n"
   ]
  },
  {
   "cell_type": "code",
   "execution_count": null,
   "id": "fd736eec-a969-4e8a-a611-96afebcc03d8",
   "metadata": {},
   "outputs": [],
   "source": [
    "3.two sum\n",
    "\n",
    "def two_sum(numbers, target):\n",
    "    for i in range(len(numbers)):\n",
    "        for j in range(i + 1, len(numbers)):\n",
    "            if numbers[i] + numbers[j] == target:\n",
    "                return [i, j]\n",
    "            elif numbers[i] + numbers[j] > target:\n",
    "                continue\n",
    "            else:\n",
    "                continue\n",
    "\n",
    "# Example usage\n",
    "print(two_sum([2, 7, 11, 15], 9))  # Output: [0, 1]\n"
   ]
  },
  {
   "cell_type": "code",
   "execution_count": null,
   "id": "9cbdc38c-18e8-4374-a270-7e998828b138",
   "metadata": {},
   "outputs": [],
   "source": [
    "4.happy number\n",
    "\n",
    "def is_happy(n):\n",
    "    seen = set()\n",
    "    while True:\n",
    "        if n == 1:\n",
    "            return True\n",
    "        elif n in seen:\n",
    "            return False\n",
    "        else:\n",
    "            seen.add(n)\n",
    "            n = sum(int(char)**2 for char in string(n))\n",
    "\n",
    "# Example usage\n",
    "print(is_happy(19))  # Output: True\n"
   ]
  },
  {
   "cell_type": "code",
   "execution_count": null,
   "id": "796e7729-c173-4518-8a39-4bbc9704e0b3",
   "metadata": {},
   "outputs": [],
   "source": [
    "5.contains duplicate\n",
    "\n",
    "def contains_duplicate(numbers):\n",
    "    seen = set()\n",
    "    for number in numbers:\n",
    "        if number in seen:\n",
    "            return True\n",
    "        elif number not in seen:\n",
    "            seen.add(number)\n",
    "        else:\n",
    "            continue\n",
    "    return False\n",
    "\n",
    "# Example usage\n",
    "print(contains_duplicate([1, 2, 3, 4]))  # False\n",
    "print(contains_duplicate([1, 2, 3, 1]))  # True\n"
   ]
  }
 ],
 "metadata": {
  "kernelspec": {
   "display_name": "",
   "name": ""
  },
  "language_info": {
   "name": ""
  }
 },
 "nbformat": 4,
 "nbformat_minor": 5
}
